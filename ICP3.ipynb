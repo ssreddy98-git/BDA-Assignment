{
  "nbformat": 4,
  "nbformat_minor": 0,
  "metadata": {
    "colab": {
      "provenance": [],
      "mount_file_id": "1iBbgR_Qm5t2Ydf_SOA5LXvusdwAyTjVP",
      "authorship_tag": "ABX9TyPb4Nx/CJ5tvEeVxDi1KWfI",
      "include_colab_link": true
    },
    "kernelspec": {
      "name": "python3",
      "display_name": "Python 3"
    },
    "language_info": {
      "name": "python"
    }
  },
  "cells": [
    {
      "cell_type": "markdown",
      "metadata": {
        "id": "view-in-github",
        "colab_type": "text"
      },
      "source": [
        "<a href=\"https://colab.research.google.com/github/ssreddy98-git/BDA-Assignment/blob/main/ICP3.ipynb\" target=\"_parent\"><img src=\"https://colab.research.google.com/assets/colab-badge.svg\" alt=\"Open In Colab\"/></a>"
      ]
    },
    {
      "cell_type": "markdown",
      "source": [
        "a. Using NumPy create random vector of size 15 having only Integers in the range 1-20.\n",
        "\n",
        "1. Reshape the array to 3 by 5"
      ],
      "metadata": {
        "id": "ZlD5vb3yP3ze"
      }
    },
    {
      "cell_type": "code",
      "execution_count": null,
      "metadata": {
        "id": "ZwilKE3tPstc"
      },
      "outputs": [],
      "source": [
        "import numpy as np\n",
        "import pandas as pd\n",
        "\n",
        "array = np.random.randint(1,21,size=15)"
      ]
    },
    {
      "cell_type": "markdown",
      "source": [
        "2. Print array shape."
      ],
      "metadata": {
        "id": "EnrotTIGT1ui"
      }
    },
    {
      "cell_type": "code",
      "source": [
        "array_reshaped = array.reshape(3,5)\n",
        "print(array_reshaped)"
      ],
      "metadata": {
        "colab": {
          "base_uri": "https://localhost:8080/"
        },
        "id": "YULuZif3T0r1",
        "outputId": "657bab18-9cb3-45d4-bc45-476555f74ce1"
      },
      "execution_count": null,
      "outputs": [
        {
          "output_type": "stream",
          "name": "stdout",
          "text": [
            "[[13  7  9  4 18]\n",
            " [ 8 15 17 16  2]\n",
            " [ 7 16  2 20  2]]\n"
          ]
        }
      ]
    },
    {
      "cell_type": "markdown",
      "source": [
        "3. Replace the max in each row by 0"
      ],
      "metadata": {
        "id": "8ckos0bLTtp2"
      }
    },
    {
      "cell_type": "code",
      "source": [
        "row_max = array_reshaped.max(axis=1,keepdims=True)\n",
        "boolean_mask = array_reshaped == row_max\n",
        "array_reshaped[boolean_mask] = 0\n",
        "print(array_reshaped)"
      ],
      "metadata": {
        "colab": {
          "base_uri": "https://localhost:8080/"
        },
        "id": "Qx07kJrWTTQy",
        "outputId": "62d3378e-13fe-4641-e888-c2cd9b4c2e32"
      },
      "execution_count": null,
      "outputs": [
        {
          "output_type": "stream",
          "name": "stdout",
          "text": [
            "[[13  7  9  4  0]\n",
            " [ 8 15  0 16  2]\n",
            " [ 7 16  2  0  2]]\n"
          ]
        }
      ]
    },
    {
      "cell_type": "markdown",
      "source": [
        "b. Create a 2-dimensional array of size 4 x 3 (composed of 4-byte integer elements), also print the shape, type and data\n",
        "type of the array."
      ],
      "metadata": {
        "id": "qmcBMfweSJA4"
      }
    },
    {
      "cell_type": "code",
      "source": [
        "array = np.arange(12,dtype=np.int32).reshape(4,3)\n",
        "print(\"array:\\n\",array)\n",
        "print(\"array shape: \",array.shape)\n",
        "print(\"array data type: \",array.dtype)"
      ],
      "metadata": {
        "colab": {
          "base_uri": "https://localhost:8080/"
        },
        "id": "gOhMefOFSKVK",
        "outputId": "2a26af5d-0cb5-4f26-f276-de3eff1062c5"
      },
      "execution_count": null,
      "outputs": [
        {
          "output_type": "stream",
          "name": "stdout",
          "text": [
            "array:\n",
            " [[ 0  1  2]\n",
            " [ 3  4  5]\n",
            " [ 6  7  8]\n",
            " [ 9 10 11]]\n",
            "array shape:  (4, 3)\n",
            "array data type:  int32\n"
          ]
        }
      ]
    },
    {
      "cell_type": "markdown",
      "source": [
        "c. Write a program to compute the eigenvalues and right eigenvectors of a given square array given below:\n",
        "[[ 3 -2]\n",
        "[ 1 0]]"
      ],
      "metadata": {
        "id": "hDjXbBOySLCv"
      }
    },
    {
      "cell_type": "code",
      "source": [
        "A = np.array([[3, -2],\n",
        "              [1,  0]])\n",
        "\n",
        "eigenvalues, eigenvectors = np.linalg.eig(A)\n",
        "\n",
        "print(\"Eigenvalues:\\n\", eigenvalues)\n",
        "print(\"Eigenvectors:\\n\", eigenvectors)"
      ],
      "metadata": {
        "colab": {
          "base_uri": "https://localhost:8080/"
        },
        "id": "fbeWtZBMSO07",
        "outputId": "7a4cdc5f-3f4b-4723-c4fc-60090bcd2fcc"
      },
      "execution_count": null,
      "outputs": [
        {
          "output_type": "stream",
          "name": "stdout",
          "text": [
            "Eigenvalues:\n",
            " [2. 1.]\n",
            "Eigenvectors:\n",
            " [[0.89442719 0.70710678]\n",
            " [0.4472136  0.70710678]]\n"
          ]
        }
      ]
    },
    {
      "cell_type": "markdown",
      "source": [
        "d. Compute the sum of the diagonal element of a given array.\n",
        "[[0 1 2]\n",
        "[3 4 5]]"
      ],
      "metadata": {
        "id": "hHIQRCyMSQgO"
      }
    },
    {
      "cell_type": "code",
      "source": [
        "matrix = np.array([[0, 1, 2],\n",
        "              [3, 4, 5]])\n",
        "\n",
        "diagonal_sum = np.trace(matrix)\n",
        "\n",
        "print(\"Sum of diagonal elements: \", diagonal_sum)"
      ],
      "metadata": {
        "colab": {
          "base_uri": "https://localhost:8080/"
        },
        "id": "BTr8rpk4STTZ",
        "outputId": "2367b641-7eb5-4ad8-a908-e07cdf1e076d"
      },
      "execution_count": null,
      "outputs": [
        {
          "output_type": "stream",
          "name": "stdout",
          "text": [
            "Sum of diagonal elements:  4\n"
          ]
        }
      ]
    },
    {
      "cell_type": "markdown",
      "source": [
        "e. Write a NumPy program to create a new shape to an array without changing its data.\n",
        "Reshape 3x2:\n",
        "[[1 2]\n",
        "[3 4]\n",
        "[5 6]]\n",
        "Reshape 2x3:\n",
        "[[1 2 3]\n",
        "[4 5 6]]"
      ],
      "metadata": {
        "id": "h4GVWLEmST-4"
      }
    },
    {
      "cell_type": "code",
      "source": [
        "A = np.array([[1, 2],\n",
        "              [3, 4],\n",
        "              [5, 6]])\n",
        "\n",
        "B = A.reshape(2, 3)\n",
        "\n",
        "print(\"Original array (3x2): \\n\", A)\n",
        "print(\"\\nReshaped array (2x3): \\n\", B)\n"
      ],
      "metadata": {
        "id": "C-MExSEIWXYF",
        "outputId": "9dba0fad-b728-4ff6-f590-9a84afd911eb",
        "colab": {
          "base_uri": "https://localhost:8080/"
        }
      },
      "execution_count": null,
      "outputs": [
        {
          "output_type": "stream",
          "name": "stdout",
          "text": [
            "Original array (3x2): \n",
            " [[1 2]\n",
            " [3 4]\n",
            " [5 6]]\n",
            "\n",
            "Reshaped array (2x3): \n",
            " [[1 2 3]\n",
            " [4 5 6]]\n"
          ]
        }
      ]
    }
  ]
}