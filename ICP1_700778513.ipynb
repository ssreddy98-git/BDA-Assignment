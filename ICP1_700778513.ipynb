{
  "nbformat": 4,
  "nbformat_minor": 0,
  "metadata": {
    "colab": {
      "provenance": [],
      "mount_file_id": "1oRlx2jecKX-JMhRktL19KkfWZMvcyiNw",
      "authorship_tag": "ABX9TyOYMlLfnE4miYlPB4H/E9Io",
      "include_colab_link": true
    },
    "kernelspec": {
      "name": "python3",
      "display_name": "Python 3"
    },
    "language_info": {
      "name": "python"
    }
  },
  "cells": [
    {
      "cell_type": "markdown",
      "metadata": {
        "id": "view-in-github",
        "colab_type": "text"
      },
      "source": [
        "<a href=\"https://colab.research.google.com/github/ssreddy98-git/BDA-Assignment/blob/main/ICP1_700778513.ipynb\" target=\"_parent\"><img src=\"https://colab.research.google.com/assets/colab-badge.svg\" alt=\"Open In Colab\"/></a>"
      ]
    },
    {
      "cell_type": "markdown",
      "source": [
        "Input the string “Python” as a list of characters from console, delete at least 2 characters, reversetheresultant string, and print it."
      ],
      "metadata": {
        "id": "ALSPdpv02q9z"
      }
    },
    {
      "cell_type": "code",
      "source": [
        "str = input(\"Enter string : \") #prompt for the user input\n",
        "list_str = list(str) # convert the input to list\n",
        "del list_str[4:6] # delete elements from 4 to 6 (6th is excluded)\n",
        "list_str.reverse() # Reverse the list\n",
        "result = ''.join(list_str) # Join each element in the string(to remove the \",\" which usually appears in the list)\n",
        "print(result)"
      ],
      "metadata": {
        "colab": {
          "base_uri": "https://localhost:8080/"
        },
        "id": "txRz-KUU29L-",
        "outputId": "935d16e4-ef8b-4a2a-c923-22bcf8da4fc1"
      },
      "execution_count": null,
      "outputs": [
        {
          "output_type": "stream",
          "name": "stdout",
          "text": [
            "Enter string : python\n",
            "htyp\n"
          ]
        }
      ]
    },
    {
      "cell_type": "markdown",
      "source": [
        "Take two numbers from user and perform at least 4 arithmetic operations on them."
      ],
      "metadata": {
        "id": "Snuvnlha4qgM"
      }
    },
    {
      "cell_type": "code",
      "source": [
        "num1 = float(input(\"Enter number 1: \")) #prompt the user to input number 1\n",
        "num2 = float(input(\"Enter number 2: \")) #prompt the user to input number 2\n",
        "\n",
        "addition = num1+num2 #perform addition and save the value in variable addition\n",
        "subtraction = num1-num2  #perform subtraction and save the value in variable subtraction\n",
        "division = num1/num2 if num2!=0 else \"cannot divide by 0\" #perform the division and save the value in variable division\n",
        "multiplication = num1*num2 #perform the multiplication and save the value in variabe multiplication\n",
        "\n",
        "#print the outputs\n",
        "print(\"sum\", addition)\n",
        "print(\"difference\", subtraction)\n",
        "print(\"division\", division)\n",
        "print(\"multiplication\", multiplication)"
      ],
      "metadata": {
        "colab": {
          "base_uri": "https://localhost:8080/"
        },
        "id": "pC94i5Ov4uKl",
        "outputId": "d8ae528c-6302-45f7-8b44-d0e08f569fe2"
      },
      "execution_count": null,
      "outputs": [
        {
          "output_type": "stream",
          "name": "stdout",
          "text": [
            "Enter numebr 1: 5\n",
            "Enter number 2: 6\n",
            "sum 11.0\n",
            "difference -1.0\n",
            "division 0.8333333333333334\n",
            "multiplication 30.0\n"
          ]
        }
      ]
    },
    {
      "cell_type": "markdown",
      "source": [
        "Write a program that accepts a sentence and replace each occurrence of ‘python’ with\n",
        "‘pythons’."
      ],
      "metadata": {
        "id": "cLwQpp9p7bdw"
      }
    },
    {
      "cell_type": "code",
      "source": [
        "sentence = input(\"Enter a sentence : \") #prompt the user to input the sentence, make sure you have python in the sentence.\n",
        "modified = sentence.replace('python', 'pythons') #replace python with pythons.\n",
        "print(modified) #print the output."
      ],
      "metadata": {
        "colab": {
          "base_uri": "https://localhost:8080/"
        },
        "id": "QhwicuO_7pjT",
        "outputId": "86f0349d-c43d-434a-e0a9-821f916ac30b"
      },
      "execution_count": null,
      "outputs": [
        {
          "output_type": "stream",
          "name": "stdout",
          "text": [
            "Enter a sentence : hello python\n",
            "hello pythons\n"
          ]
        }
      ]
    },
    {
      "cell_type": "markdown",
      "source": [
        "Use the if statement conditions to write a program to print the letter grade based on\n",
        "an input class score. Use the grading scheme we are using in this class."
      ],
      "metadata": {
        "id": "FF3fLHWZ706r"
      }
    },
    {
      "cell_type": "code",
      "source": [
        "score = float(input(\"Enter your class score : \")) #prompt the user to input the score\n",
        "\n",
        "#use if else statements\n",
        "if score >= 90 and score <= 100:\n",
        "    grade = 'A'\n",
        "elif score >= 80 and score < 90:\n",
        "    grade = 'B'\n",
        "elif score >= 70 and score < 80:\n",
        "    grade = 'C'\n",
        "elif score >= 60 and score < 70:\n",
        "    grade = 'D'\n",
        "elif score >= 0 and score < 60:\n",
        "    grade = 'F'\n",
        "else:\n",
        "    grade = 'Invalid score'\n",
        "\n",
        "#print the output\n",
        "print(\"Your grade is: \",grade)"
      ],
      "metadata": {
        "colab": {
          "base_uri": "https://localhost:8080/"
        },
        "id": "4H4XJPyq77wI",
        "outputId": "6b3299d0-52e8-4bfa-f4ce-13e3af42f0b7"
      },
      "execution_count": null,
      "outputs": [
        {
          "output_type": "stream",
          "name": "stdout",
          "text": [
            "Enter your class score : 96\n",
            "Your grade is:  A\n"
          ]
        }
      ]
    },
    {
      "cell_type": "markdown",
      "source": [
        "Write a code that appends the type of elements from a given list."
      ],
      "metadata": {
        "id": "Fadk9r2_8G5n"
      }
    },
    {
      "cell_type": "code",
      "source": [
        "x = [23, 'Python', 23.98] #create a list as per the requirement\n",
        "types_list = [type(item) for item in x] #use type function to get the element type and for loop iterates through all the elements in the list\n",
        "#print the output\n",
        "print(x)\n",
        "print(types_list)"
      ],
      "metadata": {
        "colab": {
          "base_uri": "https://localhost:8080/"
        },
        "id": "2ZZ_H2jS8L1R",
        "outputId": "9c0f0f12-39cd-495e-83f2-b7fd1f5a64cd"
      },
      "execution_count": null,
      "outputs": [
        {
          "output_type": "stream",
          "name": "stdout",
          "text": [
            "[23, 'Python', 23.98]\n",
            "[<class 'int'>, <class 'str'>, <class 'float'>]\n"
          ]
        }
      ]
    },
    {
      "cell_type": "markdown",
      "source": [
        "IT_companies = {'Facebook', 'Google', 'Microsoft', 'Apple', 'IBM', 'Oracle', 'Amazon'}\n",
        "\n",
        "A = {19, 22, 24, 20, 25, 26}\n",
        "\n",
        "B = {19, 22, 20, 25, 26, 24, 28, 27}\n",
        "\n",
        "age = [22, 19, 24, 25, 26, 24, 25, 24]\n",
        "\n",
        "• Find the length of the set IT_companies\n",
        "\n",
        "• Add 'Twitter' to IT_companies\n",
        "\n",
        "• Insert multiple IT companies at once to the set IT_companies\n",
        "\n",
        "• Remove one of the companies from the set IT_companies\n",
        "\n",
        "• What is the difference between remove and discard\n",
        "\n",
        "• Join A and B\n",
        "\n",
        "• Find A intersection B\n",
        "\n",
        "• Is A subset of B\n",
        "\n",
        "• Are A and B disjoint sets\n",
        "\n",
        "• Join A with B and B with A\n",
        "\n",
        "• What is the symmetric difference between A and B\n",
        "\n",
        "• Delete the sets completely\n",
        "\n",
        "• Convert the ages to a set and compare the length of the list and the set."
      ],
      "metadata": {
        "id": "7kndTdGJ8Ur4"
      }
    },
    {
      "cell_type": "code",
      "source": [
        "#Create sets as per the requirement\n",
        "IT_companies = {'Facebook', 'Google', 'Microsoft', 'Apple', 'IBM', 'Oracle', 'Amazon'}\n",
        "A = {19, 22, 24, 20, 25, 26}\n",
        "B = {19, 22, 20, 25, 26, 24, 28, 27}\n",
        "age = [22, 19, 24, 25, 26, 24, 25, 24]\n",
        "\n",
        "#Use len function to get the length of the list.\n",
        "print(\"Length of IT_companies:\", len(IT_companies))\n",
        "\n",
        "#Use add function to add the element in the set\n",
        "IT_companies.add('Twitter')\n",
        "print(\"IT_companies after adding Twitter:\", IT_companies)\n",
        "\n",
        "#Use update function to add multiple elements in the set\n",
        "IT_companies.update(['Tesla', 'GE'])\n",
        "print(\"IT_comapnies after updating with multiple companies\", IT_companies)\n",
        "\n",
        "#Use remove function to remove a specific element from the set\n",
        "IT_companies.remove('Oracle')\n",
        "print(\"IT_companies after removing Oracle:\", IT_companies)\n",
        "\n",
        "#Use union function to get all elements from both sets\n",
        "A_union_B = A.union(B)\n",
        "print(\"Union of A and B:\", A_union_B)\n",
        "\n",
        "#Use intersection function to get common elements from both sets\n",
        "A_intersection_B = A.intersection(B)\n",
        "print(\"Intersection of A and B:\", A_intersection_B)\n",
        "\n",
        "#Use issubset function to check if A is subset of B\n",
        "is_subset = A.issubset(B)\n",
        "print(\"Is A a subset of B?\", is_subset)\n",
        "\n",
        "#Use isdisjoint function to check if A and B are disjoint\n",
        "are_disjoint = A.isdisjoint(B)\n",
        "print(\"Are A and B disjoint?\", are_disjoint)\n",
        "\n",
        "#Use union function from both sides\n",
        "A_with_B = A.union(B)\n",
        "B_with_A = B.union(A)\n",
        "print(\"A union B:\", A_with_B)\n",
        "print(\"B union A:\", B_with_A)\n",
        "z\n",
        "#Use symmetric_difference to get non-common elements\n",
        "symmetric_diff = A.symmetric_difference(B)\n",
        "print(\"Symmetric difference between A and B:\", symmetric_diff)\n",
        "\n",
        "#Delete the sets\n",
        "del IT_companies\n",
        "del A\n",
        "del B\n",
        "print(\"Sets IT_companies, A, and B have been deleted\")\n",
        "\n",
        "#Convert age list to set and compare lengths\n",
        "age_set = set(age)\n",
        "print(\"Original age list:\", age)\n",
        "print(\"Age set:\", age_set)\n",
        "print(\"Length of age list:\", len(age))\n",
        "print(\"Length of age set:\", len(age_set))\n"
      ],
      "metadata": {
        "colab": {
          "base_uri": "https://localhost:8080/"
        },
        "id": "rqJSElH08qfe",
        "outputId": "42a1cfd0-fff9-44ed-ba5b-29b926a443fa"
      },
      "execution_count": null,
      "outputs": [
        {
          "output_type": "stream",
          "name": "stdout",
          "text": [
            "Length of IT_companies: 7\n",
            "IT_companies after adding Twitter: {'IBM', 'Facebook', 'Google', 'Amazon', 'Oracle', 'Twitter', 'Apple', 'Microsoft'}\n",
            "IT_comapnies after updating with multiple companies {'GE', 'Oracle', 'Amazon', 'Microsoft', 'Google', 'Twitter', 'Apple', 'IBM', 'Tesla', 'Facebook'}\n",
            "IT_companies after removing Oracle: {'GE', 'Amazon', 'Microsoft', 'Google', 'Twitter', 'Apple', 'IBM', 'Tesla', 'Facebook'}\n",
            "Union of A and B: {19, 20, 22, 24, 25, 26, 27, 28}\n",
            "Intersection of A and B: {19, 20, 22, 24, 25, 26}\n",
            "Is A a subset of B? True\n",
            "Are A and B disjoint? False\n",
            "A union B: {19, 20, 22, 24, 25, 26, 27, 28}\n",
            "B union A: {19, 20, 22, 24, 25, 26, 27, 28}\n",
            "Symmetric difference between A and B: {27, 28}\n",
            "Sets IT_companies, A, and B have been deleted\n",
            "Original age list: [22, 19, 24, 25, 26, 24, 25, 24]\n",
            "Age set: {19, 22, 24, 25, 26}\n",
            "Length of age list: 8\n",
            "Length of age set: 5\n"
          ]
        }
      ]
    },
    {
      "cell_type": "markdown",
      "source": [
        "Video Link: https://drive.google.com/file/d/1AKx7pkYLMmdyh6WW1zBvGUc8338wO-1y/view?usp=share_link"
      ],
      "metadata": {
        "id": "BiHkj_hHxaz_"
      }
    }
  ]
}