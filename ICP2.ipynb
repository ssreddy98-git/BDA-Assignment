{
  "nbformat": 4,
  "nbformat_minor": 0,
  "metadata": {
    "colab": {
      "provenance": [],
      "mount_file_id": "11PwT0jVYazJMNCQPstH02Hpm07ZRN8DO",
      "authorship_tag": "ABX9TyM1STfg4sR3EYyKb/ygvZrg",
      "include_colab_link": true
    },
    "kernelspec": {
      "name": "python3",
      "display_name": "Python 3"
    },
    "language_info": {
      "name": "python"
    }
  },
  "cells": [
    {
      "cell_type": "markdown",
      "metadata": {
        "id": "view-in-github",
        "colab_type": "text"
      },
      "source": [
        "<a href=\"https://colab.research.google.com/github/ssreddy98-git/BDA-Assignment/blob/main/ICP2.ipynb\" target=\"_parent\"><img src=\"https://colab.research.google.com/assets/colab-badge.svg\" alt=\"Open In Colab\"/></a>"
      ]
    },
    {
      "cell_type": "markdown",
      "source": [
        "Question 1:\n",
        "\n",
        "• Explain the difference between Counter.count and self._count.\n",
        "\n",
        "• What is the output of a.get_counts() and b.get_counts()?\n",
        "\n",
        "• How does the increment method affect both the class and instance variables?"
      ],
      "metadata": {
        "id": "7j5mR1W3if6u"
      }
    },
    {
      "cell_type": "code",
      "execution_count": null,
      "metadata": {
        "colab": {
          "base_uri": "https://localhost:8080/"
        },
        "id": "xca1ZN_1iXOD",
        "outputId": "59c4092b-8a5f-4612-ad8a-24bae3fed2c1"
      },
      "outputs": [
        {
          "output_type": "stream",
          "name": "stdout",
          "text": [
            "Instance count: 2, Class count:3\n",
            "Instance count: 1, Class count:3\n"
          ]
        }
      ],
      "source": [
        "class Counter:\n",
        "  count=0\n",
        "\n",
        "  def __init__(self):\n",
        "    self._count=0\n",
        "\n",
        "  def increment(self):\n",
        "    self._count += 1\n",
        "    Counter.count += 1\n",
        "\n",
        "  def get_counts(self):\n",
        "    return f\"Instance count: {self._count}, Class count:{Counter.count}\"\n",
        "\n",
        "\n",
        "a= Counter()\n",
        "b= Counter()\n",
        "\n",
        "a.increment()\n",
        "a.increment()\n",
        "b.increment()\n",
        "\n",
        "print(a.get_counts())\n",
        "print(b.get_counts())\n"
      ]
    },
    {
      "cell_type": "markdown",
      "source": [
        "• Counter.count is a class-level variable, which means it is shared among all instances of the class. In contrast, self._count is an instance-level variable, meaning it belongs to a specific object and is unique to each instance.\n",
        "\n",
        "• output:\n",
        "a.get_counts()\n",
        "\n",
        "Instance count: 2, Class count: 3\n",
        "\n",
        "b.get_counts()\n",
        "\n",
        "Instance count: 1, Class count: 3\n",
        "\n",
        "This shows that there are two instances: a and b.\n",
        "\n",
        "• When a.increment() is called, both the class-level variable (count) and the instance variable (a._count) increase by 1.\n",
        "\n",
        "When b.increment() is called, the class-level variable increases again (now shared by both instances), while b._count increases by 1. a._count remains unchanged.\n",
        "\n",
        "Therefore, the class-level count reflects the total number of increments across all instances, while the instance-level _count reflects the number of increments for that particular object."
      ],
      "metadata": {
        "id": "mA9X4MaM4joX"
      }
    },
    {
      "cell_type": "markdown",
      "source": [
        "Question 2:\n",
        "\n",
        "Find and remove the bug from the code to obtain the given output."
      ],
      "metadata": {
        "id": "r_CA0qPMkjAp"
      }
    },
    {
      "cell_type": "code",
      "source": [
        "def sum_all(args):\n",
        "  return sum(args)\n",
        "\n",
        "print(\"Sum of 1, 2, 3 is: \",sum_all(1,2,3))\n",
        "print(\"Sum of 4, 5, 6, 7 is: \",sum_all(4,5,6,7))"
      ],
      "metadata": {
        "colab": {
          "base_uri": "https://localhost:8080/",
          "height": 190
        },
        "id": "x7q7NUm6kx1p",
        "outputId": "137389e1-0417-4c03-9f04-8d3cd675f9d8"
      },
      "execution_count": null,
      "outputs": [
        {
          "output_type": "error",
          "ename": "TypeError",
          "evalue": "sum_all() takes 1 positional argument but 3 were given",
          "traceback": [
            "\u001b[0;31m---------------------------------------------------------------------------\u001b[0m",
            "\u001b[0;31mTypeError\u001b[0m                                 Traceback (most recent call last)",
            "\u001b[0;32m/tmp/ipython-input-3-1328822796.py\u001b[0m in \u001b[0;36m<cell line: 0>\u001b[0;34m()\u001b[0m\n\u001b[1;32m      2\u001b[0m   \u001b[0;32mreturn\u001b[0m \u001b[0msum\u001b[0m\u001b[0;34m(\u001b[0m\u001b[0margs\u001b[0m\u001b[0;34m)\u001b[0m\u001b[0;34m\u001b[0m\u001b[0;34m\u001b[0m\u001b[0m\n\u001b[1;32m      3\u001b[0m \u001b[0;34m\u001b[0m\u001b[0m\n\u001b[0;32m----> 4\u001b[0;31m \u001b[0mprint\u001b[0m\u001b[0;34m(\u001b[0m\u001b[0;34m\"Sum of 1, 2, 3 is: \"\u001b[0m\u001b[0;34m,\u001b[0m\u001b[0msum_all\u001b[0m\u001b[0;34m(\u001b[0m\u001b[0;36m1\u001b[0m\u001b[0;34m,\u001b[0m\u001b[0;36m2\u001b[0m\u001b[0;34m,\u001b[0m\u001b[0;36m3\u001b[0m\u001b[0;34m)\u001b[0m\u001b[0;34m)\u001b[0m\u001b[0;34m\u001b[0m\u001b[0;34m\u001b[0m\u001b[0m\n\u001b[0m\u001b[1;32m      5\u001b[0m \u001b[0mprint\u001b[0m\u001b[0;34m(\u001b[0m\u001b[0;34m\"Sum of 4, 5, 6, 7 is: \"\u001b[0m\u001b[0;34m,\u001b[0m\u001b[0msum_all\u001b[0m\u001b[0;34m(\u001b[0m\u001b[0;36m4\u001b[0m\u001b[0;34m,\u001b[0m\u001b[0;36m5\u001b[0m\u001b[0;34m,\u001b[0m\u001b[0;36m6\u001b[0m\u001b[0;34m,\u001b[0m\u001b[0;36m7\u001b[0m\u001b[0;34m)\u001b[0m\u001b[0;34m)\u001b[0m\u001b[0;34m\u001b[0m\u001b[0;34m\u001b[0m\u001b[0m\n",
            "\u001b[0;31mTypeError\u001b[0m: sum_all() takes 1 positional argument but 3 were given"
          ]
        }
      ]
    },
    {
      "cell_type": "markdown",
      "source": [
        "Corrected code:"
      ],
      "metadata": {
        "id": "7GIvCE-Qk3Ju"
      }
    },
    {
      "cell_type": "code",
      "source": [
        "def sum_all(*args):\n",
        "  return sum(args)\n",
        "\n",
        "print(\"Sum of 1, 2, 3 is: \",sum_all(1,2,3))\n",
        "print(\"Sum of 4, 5, 6, 7 is: \",sum_all(4,5,6,7))"
      ],
      "metadata": {
        "colab": {
          "base_uri": "https://localhost:8080/"
        },
        "id": "NoMTkBMbk6F8",
        "outputId": "d5fdad59-50b2-43ff-fe4f-836b95c585d6"
      },
      "execution_count": null,
      "outputs": [
        {
          "output_type": "stream",
          "name": "stdout",
          "text": [
            "Sum of 1, 2, 3 is:  6\n",
            "Sum of 4, 5, 6, 7 is:  22\n"
          ]
        }
      ]
    },
    {
      "cell_type": "markdown",
      "source": [
        "Question 3:\n",
        "\n",
        "Write a function called first_word that takes a list of character strings as input and returns the first\n",
        "element of the list in alphabetical order. For example, your function should work like this:\n",
        "\n",
        "students = ['Mary', 'Zelda', 'Jimmy', 'Jack', 'Bartholomew', 'Gertrude'] (Input)\n",
        "\n",
        "first_word(students) (Function)\n",
        "\n",
        "'Bartholomew' (Output)"
      ],
      "metadata": {
        "id": "EvNNQUb_lCtt"
      }
    },
    {
      "cell_type": "code",
      "source": [
        "def first_word(a):\n",
        "  sorted_list=sorted(a)\n",
        "  first_element=sorted_list[0]\n",
        "  return first_element\n",
        "\n",
        "students = ['Mary', 'Zelda', 'Jimmy', 'Jack', 'Bartholomew', 'Gertrude']\n",
        "first_word(students)"
      ],
      "metadata": {
        "colab": {
          "base_uri": "https://localhost:8080/",
          "height": 35
        },
        "id": "FNCWCbillP6M",
        "outputId": "24f88a3d-907c-43b4-8f17-3006fb3e35be"
      },
      "execution_count": null,
      "outputs": [
        {
          "output_type": "execute_result",
          "data": {
            "text/plain": [
              "'Bartholomew'"
            ],
            "application/vnd.google.colaboratory.intrinsic+json": {
              "type": "string"
            }
          },
          "metadata": {},
          "execution_count": 13
        }
      ]
    },
    {
      "cell_type": "markdown",
      "source": [
        "Question 4:\n",
        "\n",
        "Create a class Employee and then do the following\n",
        "\n",
        "• Create a data member to count the number of Employees\n",
        "\n",
        "• Create a constructor to initialize name, family, salary, department\n",
        "\n",
        "• Create a function to average salary\n",
        "\n",
        "• Create a Fulltime Employee class and it should inherit the properties of Employee class\n",
        "\n",
        "• Create the instances of Fulltime Employee class and Employee class and call their member functions."
      ],
      "metadata": {
        "id": "hU_jPnA3mnuW"
      }
    },
    {
      "cell_type": "code",
      "source": [
        "class Employee:\n",
        "  e_count=0\n",
        "  salaries=[]\n",
        "\n",
        "  def __init__(self,name,family,salary,department):\n",
        "    self.name= name\n",
        "    self.family= family\n",
        "    self.salary= salary\n",
        "    self.department= department\n",
        "\n",
        "    Employee.e_count += 1\n",
        "    Employee.salaries.append(salary)\n",
        "\n",
        "  def average_salary():\n",
        "    return sum(Employee.salaries)/Employee.e_count\n",
        "\n",
        "\n",
        "class FulltimeEmployee(Employee):\n",
        "  def __init__(self,name,family,salary,department):\n",
        "    super().__init__(name,family,salary,department)"
      ],
      "metadata": {
        "id": "cft4mKse0lE0"
      },
      "execution_count": null,
      "outputs": []
    },
    {
      "cell_type": "code",
      "source": [
        "emp1=Employee(\"Satish\",\"Sabbella\",100000,\"IT\")\n",
        "emp2=FulltimeEmployee(\"Shilpa\",\"Dasari\",100000,\"HR\")\n",
        "emp3=Employee(\"Jagan\",\"YS\",500000,\"CEO\")"
      ],
      "metadata": {
        "id": "YIda6xWJuyGm"
      },
      "execution_count": null,
      "outputs": []
    },
    {
      "cell_type": "code",
      "source": [
        "print(\"Total Employees: \", Employee.e_count)\n",
        "print(\"Average Salary:\", Employee.average_salary())"
      ],
      "metadata": {
        "colab": {
          "base_uri": "https://localhost:8080/"
        },
        "id": "Jnu9zPWT04MA",
        "outputId": "373a8712-1254-4ae7-88af-910e87d24bd2"
      },
      "execution_count": null,
      "outputs": [
        {
          "output_type": "stream",
          "name": "stdout",
          "text": [
            "Total Employees:  3\n",
            "Average Salary: 233333.33333333334\n"
          ]
        }
      ]
    },
    {
      "cell_type": "markdown",
      "source": [
        "link: https://drive.google.com/file/d/15BPuVQZ3S9zD2KfikA8m2aYU0BT20GQ1/view?usp=share_link"
      ],
      "metadata": {
        "id": "pA91eXVdE1j4"
      }
    },
    {
      "cell_type": "code",
      "source": [],
      "metadata": {
        "id": "LNrE0-fJFcwS"
      },
      "execution_count": null,
      "outputs": []
    }
  ]
}